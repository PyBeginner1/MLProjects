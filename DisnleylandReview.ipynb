{
  "nbformat": 4,
  "nbformat_minor": 0,
  "metadata": {
    "colab": {
      "name": "DisnleylandReview",
      "provenance": [],
      "authorship_tag": "ABX9TyNesJVsu0yixEi92S+wONKM",
      "include_colab_link": true
    },
    "kernelspec": {
      "name": "python3",
      "display_name": "Python 3"
    },
    "language_info": {
      "name": "python"
    },
    "accelerator": "GPU"
  },
  "cells": [
    {
      "cell_type": "markdown",
      "metadata": {
        "id": "view-in-github",
        "colab_type": "text"
      },
      "source": [
        "<a href=\"https://colab.research.google.com/github/PyBeginner1/MLProjects/blob/main/DisnleylandReview.ipynb\" target=\"_parent\"><img src=\"https://colab.research.google.com/assets/colab-badge.svg\" alt=\"Open In Colab\"/></a>"
      ]
    },
    {
      "cell_type": "code",
      "metadata": {
        "id": "A0UZx8Hs4G6K"
      },
      "source": [
        "import numpy as np\n",
        "import pandas as pd\n",
        "\n",
        "from sklearn.model_selection import train_test_split\n",
        "from tensorflow.keras.preprocessing.text import Tokenizer\n",
        "from tensorflow.keras.preprocessing.sequence import pad_sequences\n",
        "\n",
        "import tensorflow as tf"
      ],
      "execution_count": 10,
      "outputs": []
    },
    {
      "cell_type": "code",
      "metadata": {
        "id": "tcBO-U4g6NmO"
      },
      "source": [
        "data = pd.read_csv('/content/DisneylandReviews.csv', encoding='latin-1')"
      ],
      "execution_count": 11,
      "outputs": []
    },
    {
      "cell_type": "code",
      "metadata": {
        "colab": {
          "base_uri": "https://localhost:8080/",
          "height": 417
        },
        "id": "XBixyniI6QrL",
        "outputId": "cf9fbf9e-16da-4ef0-82b2-4656fee47c88"
      },
      "source": [
        "data"
      ],
      "execution_count": 12,
      "outputs": [
        {
          "output_type": "execute_result",
          "data": {
            "text/html": [
              "<div>\n",
              "<style scoped>\n",
              "    .dataframe tbody tr th:only-of-type {\n",
              "        vertical-align: middle;\n",
              "    }\n",
              "\n",
              "    .dataframe tbody tr th {\n",
              "        vertical-align: top;\n",
              "    }\n",
              "\n",
              "    .dataframe thead th {\n",
              "        text-align: right;\n",
              "    }\n",
              "</style>\n",
              "<table border=\"1\" class=\"dataframe\">\n",
              "  <thead>\n",
              "    <tr style=\"text-align: right;\">\n",
              "      <th></th>\n",
              "      <th>Review_ID</th>\n",
              "      <th>Rating</th>\n",
              "      <th>Year_Month</th>\n",
              "      <th>Reviewer_Location</th>\n",
              "      <th>Review_Text</th>\n",
              "      <th>Branch</th>\n",
              "    </tr>\n",
              "  </thead>\n",
              "  <tbody>\n",
              "    <tr>\n",
              "      <th>0</th>\n",
              "      <td>670772142</td>\n",
              "      <td>4</td>\n",
              "      <td>2019-4</td>\n",
              "      <td>Australia</td>\n",
              "      <td>If you've ever been to Disneyland anywhere you...</td>\n",
              "      <td>Disneyland_HongKong</td>\n",
              "    </tr>\n",
              "    <tr>\n",
              "      <th>1</th>\n",
              "      <td>670682799</td>\n",
              "      <td>4</td>\n",
              "      <td>2019-5</td>\n",
              "      <td>Philippines</td>\n",
              "      <td>Its been a while since d last time we visit HK...</td>\n",
              "      <td>Disneyland_HongKong</td>\n",
              "    </tr>\n",
              "    <tr>\n",
              "      <th>2</th>\n",
              "      <td>670623270</td>\n",
              "      <td>4</td>\n",
              "      <td>2019-4</td>\n",
              "      <td>United Arab Emirates</td>\n",
              "      <td>Thanks God it wasn   t too hot or too humid wh...</td>\n",
              "      <td>Disneyland_HongKong</td>\n",
              "    </tr>\n",
              "    <tr>\n",
              "      <th>3</th>\n",
              "      <td>670607911</td>\n",
              "      <td>4</td>\n",
              "      <td>2019-4</td>\n",
              "      <td>Australia</td>\n",
              "      <td>HK Disneyland is a great compact park. Unfortu...</td>\n",
              "      <td>Disneyland_HongKong</td>\n",
              "    </tr>\n",
              "    <tr>\n",
              "      <th>4</th>\n",
              "      <td>670607296</td>\n",
              "      <td>4</td>\n",
              "      <td>2019-4</td>\n",
              "      <td>United Kingdom</td>\n",
              "      <td>the location is not in the city, took around 1...</td>\n",
              "      <td>Disneyland_HongKong</td>\n",
              "    </tr>\n",
              "    <tr>\n",
              "      <th>...</th>\n",
              "      <td>...</td>\n",
              "      <td>...</td>\n",
              "      <td>...</td>\n",
              "      <td>...</td>\n",
              "      <td>...</td>\n",
              "      <td>...</td>\n",
              "    </tr>\n",
              "    <tr>\n",
              "      <th>42651</th>\n",
              "      <td>1765031</td>\n",
              "      <td>5</td>\n",
              "      <td>missing</td>\n",
              "      <td>United Kingdom</td>\n",
              "      <td>i went to disneyland paris in july 03 and thou...</td>\n",
              "      <td>Disneyland_Paris</td>\n",
              "    </tr>\n",
              "    <tr>\n",
              "      <th>42652</th>\n",
              "      <td>1659553</td>\n",
              "      <td>5</td>\n",
              "      <td>missing</td>\n",
              "      <td>Canada</td>\n",
              "      <td>2 adults and 1 child of 11 visited Disneyland ...</td>\n",
              "      <td>Disneyland_Paris</td>\n",
              "    </tr>\n",
              "    <tr>\n",
              "      <th>42653</th>\n",
              "      <td>1645894</td>\n",
              "      <td>5</td>\n",
              "      <td>missing</td>\n",
              "      <td>South Africa</td>\n",
              "      <td>My eleven year old daughter and myself went to...</td>\n",
              "      <td>Disneyland_Paris</td>\n",
              "    </tr>\n",
              "    <tr>\n",
              "      <th>42654</th>\n",
              "      <td>1618637</td>\n",
              "      <td>4</td>\n",
              "      <td>missing</td>\n",
              "      <td>United States</td>\n",
              "      <td>This hotel, part of the Disneyland Paris compl...</td>\n",
              "      <td>Disneyland_Paris</td>\n",
              "    </tr>\n",
              "    <tr>\n",
              "      <th>42655</th>\n",
              "      <td>1536786</td>\n",
              "      <td>4</td>\n",
              "      <td>missing</td>\n",
              "      <td>United Kingdom</td>\n",
              "      <td>I went to the Disneyparis resort, in 1996, wit...</td>\n",
              "      <td>Disneyland_Paris</td>\n",
              "    </tr>\n",
              "  </tbody>\n",
              "</table>\n",
              "<p>42656 rows × 6 columns</p>\n",
              "</div>"
            ],
            "text/plain": [
              "       Review_ID  ...               Branch\n",
              "0      670772142  ...  Disneyland_HongKong\n",
              "1      670682799  ...  Disneyland_HongKong\n",
              "2      670623270  ...  Disneyland_HongKong\n",
              "3      670607911  ...  Disneyland_HongKong\n",
              "4      670607296  ...  Disneyland_HongKong\n",
              "...          ...  ...                  ...\n",
              "42651    1765031  ...     Disneyland_Paris\n",
              "42652    1659553  ...     Disneyland_Paris\n",
              "42653    1645894  ...     Disneyland_Paris\n",
              "42654    1618637  ...     Disneyland_Paris\n",
              "42655    1536786  ...     Disneyland_Paris\n",
              "\n",
              "[42656 rows x 6 columns]"
            ]
          },
          "metadata": {},
          "execution_count": 12
        }
      ]
    },
    {
      "cell_type": "code",
      "metadata": {
        "colab": {
          "base_uri": "https://localhost:8080/"
        },
        "id": "6zhhzq2e6Q9r",
        "outputId": "4d51f179-b90c-4af0-d038-16e9b21aa8da"
      },
      "source": [
        "data.isna().sum()"
      ],
      "execution_count": 13,
      "outputs": [
        {
          "output_type": "execute_result",
          "data": {
            "text/plain": [
              "Review_ID            0\n",
              "Rating               0\n",
              "Year_Month           0\n",
              "Reviewer_Location    0\n",
              "Review_Text          0\n",
              "Branch               0\n",
              "dtype: int64"
            ]
          },
          "metadata": {},
          "execution_count": 13
        }
      ]
    },
    {
      "cell_type": "code",
      "metadata": {
        "id": "F9C24Hn67vCs"
      },
      "source": [
        "data.drop('Review_ID', axis = 1, inplace = True)"
      ],
      "execution_count": 14,
      "outputs": []
    },
    {
      "cell_type": "code",
      "metadata": {
        "colab": {
          "base_uri": "https://localhost:8080/"
        },
        "id": "CPM63isL7r_c",
        "outputId": "0666d27e-1d5f-4118-e669-635bc0e54e19"
      },
      "source": [
        "data.info()"
      ],
      "execution_count": 15,
      "outputs": [
        {
          "output_type": "stream",
          "text": [
            "<class 'pandas.core.frame.DataFrame'>\n",
            "RangeIndex: 42656 entries, 0 to 42655\n",
            "Data columns (total 5 columns):\n",
            " #   Column             Non-Null Count  Dtype \n",
            "---  ------             --------------  ----- \n",
            " 0   Rating             42656 non-null  int64 \n",
            " 1   Year_Month         42656 non-null  object\n",
            " 2   Reviewer_Location  42656 non-null  object\n",
            " 3   Review_Text        42656 non-null  object\n",
            " 4   Branch             42656 non-null  object\n",
            "dtypes: int64(1), object(4)\n",
            "memory usage: 1.6+ MB\n"
          ],
          "name": "stdout"
        }
      ]
    },
    {
      "cell_type": "code",
      "metadata": {
        "id": "CqreuCqp_kkD"
      },
      "source": [
        "def get_sequences(texts, tokenizer, train=True, max_seq_length=None):\n",
        "    sequences = tokenizer.texts_to_sequences(texts)\n",
        "    \n",
        "    if train == True:\n",
        "        max_seq_length = np.max(list(map(len, sequences)))\n",
        "    \n",
        "    sequences = pad_sequences(sequences, maxlen=max_seq_length, padding='post')\n",
        "    \n",
        "    return sequences"
      ],
      "execution_count": 16,
      "outputs": []
    },
    {
      "cell_type": "code",
      "metadata": {
        "id": "ALMyuq1C7twz"
      },
      "source": [
        "def preprocess_inputs(df):\n",
        "  df = df.copy()\n",
        "\n",
        "  X = df['Review_Text']\n",
        "  Y = df['Rating']\n",
        "\n",
        "  #train-test split\n",
        "  X_train, X_test, Y_train, Y_test = train_test_split(X, Y, train_size = 0.7, shuffle = True, random_state = 1)\n",
        "\n",
        "  #tokenize\n",
        "  tokenizer = Tokenizer()\n",
        "  tokenizer.fit_on_texts(X_train)\n",
        "  print('Vocab Length:' ,len(tokenizer.word_index) + 1)\n",
        "\n",
        "  #Convert texts to sequences\n",
        "  X_train = get_sequences(X_train, tokenizer, train=True)\n",
        "  X_test = get_sequences(X_test, tokenizer, train=False, max_seq_length=X_train.shape[1])\n",
        "\n",
        "  return X_train, X_test, Y_train, Y_test, tokenizer"
      ],
      "execution_count": 17,
      "outputs": []
    },
    {
      "cell_type": "code",
      "metadata": {
        "colab": {
          "base_uri": "https://localhost:8080/"
        },
        "id": "XCCsdxqv8T0j",
        "outputId": "8c0b20de-e79f-4f42-98f9-5df288a92dab"
      },
      "source": [
        "X_train, X_test, Y_train, Y_test, t = preprocess_inputs(data)"
      ],
      "execution_count": 18,
      "outputs": [
        {
          "output_type": "stream",
          "text": [
            "Vocab Length: 37846\n"
          ],
          "name": "stdout"
        }
      ]
    },
    {
      "cell_type": "code",
      "metadata": {
        "colab": {
          "base_uri": "https://localhost:8080/"
        },
        "id": "QKNGNFJp8VTq",
        "outputId": "94f75521-42e2-4b39-ffcb-85487c9d7d07"
      },
      "source": [
        "X_train"
      ],
      "execution_count": 19,
      "outputs": [
        {
          "output_type": "execute_result",
          "data": {
            "text/plain": [
              "array([[ 12, 154, 159, ...,   0,   0,   0],\n",
              "       [330,   3,  38, ...,   0,   0,   0],\n",
              "       [  6, 168, 193, ...,   0,   0,   0],\n",
              "       ...,\n",
              "       [ 26,   7, 251, ...,   0,   0,   0],\n",
              "       [ 12,  28, 989, ...,   0,   0,   0],\n",
              "       [ 68,  23,  68, ...,   0,   0,   0]], dtype=int32)"
            ]
          },
          "metadata": {},
          "execution_count": 19
        }
      ]
    },
    {
      "cell_type": "code",
      "metadata": {
        "colab": {
          "base_uri": "https://localhost:8080/"
        },
        "id": "TA0sYbhs-BVC",
        "outputId": "aab60a99-a47b-4c4b-96e1-0a6cac9bded1"
      },
      "source": [
        "len(t.word_index)"
      ],
      "execution_count": 20,
      "outputs": [
        {
          "output_type": "execute_result",
          "data": {
            "text/plain": [
              "37845"
            ]
          },
          "metadata": {},
          "execution_count": 20
        }
      ]
    },
    {
      "cell_type": "code",
      "metadata": {
        "colab": {
          "base_uri": "https://localhost:8080/"
        },
        "id": "JXUQW1hPFJAa",
        "outputId": "9f336e0d-5cdb-457f-e5a8-f75509079f5d"
      },
      "source": [
        "X_train.shape"
      ],
      "execution_count": 21,
      "outputs": [
        {
          "output_type": "execute_result",
          "data": {
            "text/plain": [
              "(29859, 3958)"
            ]
          },
          "metadata": {},
          "execution_count": 21
        }
      ]
    },
    {
      "cell_type": "code",
      "metadata": {
        "colab": {
          "base_uri": "https://localhost:8080/"
        },
        "id": "REmGMJi5-dez",
        "outputId": "aaef064f-3768-4bd6-e404-a583d9bf2ecb"
      },
      "source": [
        "inputs = tf.keras.Input(shape = (3958,))\n",
        "x = tf.keras.layers.Embedding(\n",
        "    input_dim = 37846,\n",
        "    output_dim = 64\n",
        ")(inputs)\n",
        "x = tf.keras.layers.Flatten()(x)\n",
        "x = tf.keras.layers.Dense(128, activation = 'relu')(x)\n",
        "x = tf.keras.layers.Dense(128, activation = 'relu')(x)\n",
        "outputs = tf.keras.layers.Dense(1, activation = 'linear')(x)\n",
        "\n",
        "model = tf.keras.Model(inputs = inputs, outputs = outputs)\n",
        "\n",
        "model.compile(\n",
        "    optimizer = 'adam',\n",
        "    loss = 'mse'\n",
        ")\n",
        "\n",
        "history = model.fit(\n",
        "    X_train,\n",
        "    Y_train,\n",
        "    validation_split = 0.2,\n",
        "    batch_size = 32,\n",
        "    epochs = 100,\n",
        "    callbacks = [\n",
        "                 tf.keras.callbacks.EarlyStopping(\n",
        "                     monitor = 'val_loss',\n",
        "                     patience = 3,\n",
        "                     restore_best_weights = True\n",
        "                 )\n",
        "    ]\n",
        ")"
      ],
      "execution_count": 22,
      "outputs": [
        {
          "output_type": "stream",
          "text": [
            "Epoch 1/100\n",
            "747/747 [==============================] - 27s 32ms/step - loss: 1.1048 - val_loss: 0.5509\n",
            "Epoch 2/100\n",
            "747/747 [==============================] - 23s 31ms/step - loss: 0.4247 - val_loss: 0.5243\n",
            "Epoch 3/100\n",
            "747/747 [==============================] - 23s 31ms/step - loss: 1.5130 - val_loss: 0.5669\n",
            "Epoch 4/100\n",
            "747/747 [==============================] - 23s 31ms/step - loss: 0.2339 - val_loss: 0.5740\n",
            "Epoch 5/100\n",
            "747/747 [==============================] - 23s 31ms/step - loss: 0.1149 - val_loss: 0.5889\n"
          ],
          "name": "stdout"
        }
      ]
    },
    {
      "cell_type": "code",
      "metadata": {
        "colab": {
          "base_uri": "https://localhost:8080/"
        },
        "id": "EjyeH-nPFZvS",
        "outputId": "92be6e31-d7f3-4c4d-fbee-095f8c0c568c"
      },
      "source": [
        "inputs"
      ],
      "execution_count": 23,
      "outputs": [
        {
          "output_type": "execute_result",
          "data": {
            "text/plain": [
              "<KerasTensor: shape=(None, 3958) dtype=float32 (created by layer 'input_3')>"
            ]
          },
          "metadata": {},
          "execution_count": 23
        }
      ]
    },
    {
      "cell_type": "code",
      "metadata": {
        "colab": {
          "base_uri": "https://localhost:8080/"
        },
        "id": "0rlr0hLgFciC",
        "outputId": "b863a170-52fa-497a-e79d-e66843b3ecc2"
      },
      "source": [
        "x"
      ],
      "execution_count": 24,
      "outputs": [
        {
          "output_type": "execute_result",
          "data": {
            "text/plain": [
              "<KerasTensor: shape=(None, 128) dtype=float32 (created by layer 'dense_6')>"
            ]
          },
          "metadata": {},
          "execution_count": 24
        }
      ]
    },
    {
      "cell_type": "code",
      "metadata": {
        "colab": {
          "base_uri": "https://localhost:8080/"
        },
        "id": "yvUudcJ7Fc_B",
        "outputId": "058c4ae9-8703-4804-b721-9333c1011ebc"
      },
      "source": [
        "x"
      ],
      "execution_count": 25,
      "outputs": [
        {
          "output_type": "execute_result",
          "data": {
            "text/plain": [
              "<KerasTensor: shape=(None, 128) dtype=float32 (created by layer 'dense_6')>"
            ]
          },
          "metadata": {},
          "execution_count": 25
        }
      ]
    },
    {
      "cell_type": "code",
      "metadata": {
        "colab": {
          "base_uri": "https://localhost:8080/"
        },
        "id": "cY4jswkxFpA7",
        "outputId": "1d157ff6-de2a-439a-b6d2-e256457854f1"
      },
      "source": [
        "pred = np.squeeze(model.predict(X_test))\n",
        "\n",
        "rmse = np.sqrt(np.mean((Y_test - pred) ** 2))\n",
        "print('RMSE: {:.2f}'.format(rmse))"
      ],
      "execution_count": 31,
      "outputs": [
        {
          "output_type": "stream",
          "text": [
            "RMSE: 0.71\n"
          ],
          "name": "stdout"
        }
      ]
    },
    {
      "cell_type": "code",
      "metadata": {
        "colab": {
          "base_uri": "https://localhost:8080/"
        },
        "id": "Z4Utro1YK3YS",
        "outputId": "e3373dca-6ea3-40a2-fc04-52212f1e83f2"
      },
      "source": [
        "r2_score = 1 - (np.sum((Y_test - pred) ** 2) / np.sum((Y_test - Y_test.mean()) ** 2))\n",
        "\n",
        "print('R2 Score: {:.2f}'.format(r2_score))"
      ],
      "execution_count": 32,
      "outputs": [
        {
          "output_type": "stream",
          "text": [
            "R2 Score: 0.55\n"
          ],
          "name": "stdout"
        }
      ]
    },
    {
      "cell_type": "code",
      "metadata": {
        "id": "sHKaOkIAL28S"
      },
      "source": [
        ""
      ],
      "execution_count": null,
      "outputs": []
    }
  ]
}